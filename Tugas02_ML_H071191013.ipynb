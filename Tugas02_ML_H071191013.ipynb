{
  "nbformat": 4,
  "nbformat_minor": 0,
  "metadata": {
    "colab": {
      "name": "Tugas02_ML_H071191013.ipynb",
      "provenance": []
    },
    "kernelspec": {
      "name": "python3",
      "display_name": "Python 3"
    },
    "language_info": {
      "name": "python"
    }
  },
  "cells": [
    {
      "cell_type": "code",
      "metadata": {
        "id": "H9PO9FQGYpEw"
      },
      "source": [
        "import pandas as pd\n",
        "import matplotlib.pyplot as plt\n",
        "import seaborn as sns\n",
        "import numpy as np\n",
        "from sklearn.preprocessing import StandardScaler"
      ],
      "execution_count": 1,
      "outputs": []
    },
    {
      "cell_type": "code",
      "metadata": {
        "colab": {
          "resources": {
            "http://localhost:8080/nbextensions/google.colab/files.js": {
              "data": "Ly8gQ29weXJpZ2h0IDIwMTcgR29vZ2xlIExMQwovLwovLyBMaWNlbnNlZCB1bmRlciB0aGUgQXBhY2hlIExpY2Vuc2UsIFZlcnNpb24gMi4wICh0aGUgIkxpY2Vuc2UiKTsKLy8geW91IG1heSBub3QgdXNlIHRoaXMgZmlsZSBleGNlcHQgaW4gY29tcGxpYW5jZSB3aXRoIHRoZSBMaWNlbnNlLgovLyBZb3UgbWF5IG9idGFpbiBhIGNvcHkgb2YgdGhlIExpY2Vuc2UgYXQKLy8KLy8gICAgICBodHRwOi8vd3d3LmFwYWNoZS5vcmcvbGljZW5zZXMvTElDRU5TRS0yLjAKLy8KLy8gVW5sZXNzIHJlcXVpcmVkIGJ5IGFwcGxpY2FibGUgbGF3IG9yIGFncmVlZCB0byBpbiB3cml0aW5nLCBzb2Z0d2FyZQovLyBkaXN0cmlidXRlZCB1bmRlciB0aGUgTGljZW5zZSBpcyBkaXN0cmlidXRlZCBvbiBhbiAiQVMgSVMiIEJBU0lTLAovLyBXSVRIT1VUIFdBUlJBTlRJRVMgT1IgQ09ORElUSU9OUyBPRiBBTlkgS0lORCwgZWl0aGVyIGV4cHJlc3Mgb3IgaW1wbGllZC4KLy8gU2VlIHRoZSBMaWNlbnNlIGZvciB0aGUgc3BlY2lmaWMgbGFuZ3VhZ2UgZ292ZXJuaW5nIHBlcm1pc3Npb25zIGFuZAovLyBsaW1pdGF0aW9ucyB1bmRlciB0aGUgTGljZW5zZS4KCi8qKgogKiBAZmlsZW92ZXJ2aWV3IEhlbHBlcnMgZm9yIGdvb2dsZS5jb2xhYiBQeXRob24gbW9kdWxlLgogKi8KKGZ1bmN0aW9uKHNjb3BlKSB7CmZ1bmN0aW9uIHNwYW4odGV4dCwgc3R5bGVBdHRyaWJ1dGVzID0ge30pIHsKICBjb25zdCBlbGVtZW50ID0gZG9jdW1lbnQuY3JlYXRlRWxlbWVudCgnc3BhbicpOwogIGVsZW1lbnQudGV4dENvbnRlbnQgPSB0ZXh0OwogIGZvciAoY29uc3Qga2V5IG9mIE9iamVjdC5rZXlzKHN0eWxlQXR0cmlidXRlcykpIHsKICAgIGVsZW1lbnQuc3R5bGVba2V5XSA9IHN0eWxlQXR0cmlidXRlc1trZXldOwogIH0KICByZXR1cm4gZWxlbWVudDsKfQoKLy8gTWF4IG51bWJlciBvZiBieXRlcyB3aGljaCB3aWxsIGJlIHVwbG9hZGVkIGF0IGEgdGltZS4KY29uc3QgTUFYX1BBWUxPQURfU0laRSA9IDEwMCAqIDEwMjQ7CgpmdW5jdGlvbiBfdXBsb2FkRmlsZXMoaW5wdXRJZCwgb3V0cHV0SWQpIHsKICBjb25zdCBzdGVwcyA9IHVwbG9hZEZpbGVzU3RlcChpbnB1dElkLCBvdXRwdXRJZCk7CiAgY29uc3Qgb3V0cHV0RWxlbWVudCA9IGRvY3VtZW50LmdldEVsZW1lbnRCeUlkKG91dHB1dElkKTsKICAvLyBDYWNoZSBzdGVwcyBvbiB0aGUgb3V0cHV0RWxlbWVudCB0byBtYWtlIGl0IGF2YWlsYWJsZSBmb3IgdGhlIG5leHQgY2FsbAogIC8vIHRvIHVwbG9hZEZpbGVzQ29udGludWUgZnJvbSBQeXRob24uCiAgb3V0cHV0RWxlbWVudC5zdGVwcyA9IHN0ZXBzOwoKICByZXR1cm4gX3VwbG9hZEZpbGVzQ29udGludWUob3V0cHV0SWQpOwp9CgovLyBUaGlzIGlzIHJvdWdobHkgYW4gYXN5bmMgZ2VuZXJhdG9yIChub3Qgc3VwcG9ydGVkIGluIHRoZSBicm93c2VyIHlldCksCi8vIHdoZXJlIHRoZXJlIGFyZSBtdWx0aXBsZSBhc3luY2hyb25vdXMgc3RlcHMgYW5kIHRoZSBQeXRob24gc2lkZSBpcyBnb2luZwovLyB0byBwb2xsIGZvciBjb21wbGV0aW9uIG9mIGVhY2ggc3RlcC4KLy8gVGhpcyB1c2VzIGEgUHJvbWlzZSB0byBibG9jayB0aGUgcHl0aG9uIHNpZGUgb24gY29tcGxldGlvbiBvZiBlYWNoIHN0ZXAsCi8vIHRoZW4gcGFzc2VzIHRoZSByZXN1bHQgb2YgdGhlIHByZXZpb3VzIHN0ZXAgYXMgdGhlIGlucHV0IHRvIHRoZSBuZXh0IHN0ZXAuCmZ1bmN0aW9uIF91cGxvYWRGaWxlc0NvbnRpbnVlKG91dHB1dElkKSB7CiAgY29uc3Qgb3V0cHV0RWxlbWVudCA9IGRvY3VtZW50LmdldEVsZW1lbnRCeUlkKG91dHB1dElkKTsKICBjb25zdCBzdGVwcyA9IG91dHB1dEVsZW1lbnQuc3RlcHM7CgogIGNvbnN0IG5leHQgPSBzdGVwcy5uZXh0KG91dHB1dEVsZW1lbnQubGFzdFByb21pc2VWYWx1ZSk7CiAgcmV0dXJuIFByb21pc2UucmVzb2x2ZShuZXh0LnZhbHVlLnByb21pc2UpLnRoZW4oKHZhbHVlKSA9PiB7CiAgICAvLyBDYWNoZSB0aGUgbGFzdCBwcm9taXNlIHZhbHVlIHRvIG1ha2UgaXQgYXZhaWxhYmxlIHRvIHRoZSBuZXh0CiAgICAvLyBzdGVwIG9mIHRoZSBnZW5lcmF0b3IuCiAgICBvdXRwdXRFbGVtZW50Lmxhc3RQcm9taXNlVmFsdWUgPSB2YWx1ZTsKICAgIHJldHVybiBuZXh0LnZhbHVlLnJlc3BvbnNlOwogIH0pOwp9CgovKioKICogR2VuZXJhdG9yIGZ1bmN0aW9uIHdoaWNoIGlzIGNhbGxlZCBiZXR3ZWVuIGVhY2ggYXN5bmMgc3RlcCBvZiB0aGUgdXBsb2FkCiAqIHByb2Nlc3MuCiAqIEBwYXJhbSB7c3RyaW5nfSBpbnB1dElkIEVsZW1lbnQgSUQgb2YgdGhlIGlucHV0IGZpbGUgcGlja2VyIGVsZW1lbnQuCiAqIEBwYXJhbSB7c3RyaW5nfSBvdXRwdXRJZCBFbGVtZW50IElEIG9mIHRoZSBvdXRwdXQgZGlzcGxheS4KICogQHJldHVybiB7IUl0ZXJhYmxlPCFPYmplY3Q+fSBJdGVyYWJsZSBvZiBuZXh0IHN0ZXBzLgogKi8KZnVuY3Rpb24qIHVwbG9hZEZpbGVzU3RlcChpbnB1dElkLCBvdXRwdXRJZCkgewogIGNvbnN0IGlucHV0RWxlbWVudCA9IGRvY3VtZW50LmdldEVsZW1lbnRCeUlkKGlucHV0SWQpOwogIGlucHV0RWxlbWVudC5kaXNhYmxlZCA9IGZhbHNlOwoKICBjb25zdCBvdXRwdXRFbGVtZW50ID0gZG9jdW1lbnQuZ2V0RWxlbWVudEJ5SWQob3V0cHV0SWQpOwogIG91dHB1dEVsZW1lbnQuaW5uZXJIVE1MID0gJyc7CgogIGNvbnN0IHBpY2tlZFByb21pc2UgPSBuZXcgUHJvbWlzZSgocmVzb2x2ZSkgPT4gewogICAgaW5wdXRFbGVtZW50LmFkZEV2ZW50TGlzdGVuZXIoJ2NoYW5nZScsIChlKSA9PiB7CiAgICAgIHJlc29sdmUoZS50YXJnZXQuZmlsZXMpOwogICAgfSk7CiAgfSk7CgogIGNvbnN0IGNhbmNlbCA9IGRvY3VtZW50LmNyZWF0ZUVsZW1lbnQoJ2J1dHRvbicpOwogIGlucHV0RWxlbWVudC5wYXJlbnRFbGVtZW50LmFwcGVuZENoaWxkKGNhbmNlbCk7CiAgY2FuY2VsLnRleHRDb250ZW50ID0gJ0NhbmNlbCB1cGxvYWQnOwogIGNvbnN0IGNhbmNlbFByb21pc2UgPSBuZXcgUHJvbWlzZSgocmVzb2x2ZSkgPT4gewogICAgY2FuY2VsLm9uY2xpY2sgPSAoKSA9PiB7CiAgICAgIHJlc29sdmUobnVsbCk7CiAgICB9OwogIH0pOwoKICAvLyBXYWl0IGZvciB0aGUgdXNlciB0byBwaWNrIHRoZSBmaWxlcy4KICBjb25zdCBmaWxlcyA9IHlpZWxkIHsKICAgIHByb21pc2U6IFByb21pc2UucmFjZShbcGlja2VkUHJvbWlzZSwgY2FuY2VsUHJvbWlzZV0pLAogICAgcmVzcG9uc2U6IHsKICAgICAgYWN0aW9uOiAnc3RhcnRpbmcnLAogICAgfQogIH07CgogIGNhbmNlbC5yZW1vdmUoKTsKCiAgLy8gRGlzYWJsZSB0aGUgaW5wdXQgZWxlbWVudCBzaW5jZSBmdXJ0aGVyIHBpY2tzIGFyZSBub3QgYWxsb3dlZC4KICBpbnB1dEVsZW1lbnQuZGlzYWJsZWQgPSB0cnVlOwoKICBpZiAoIWZpbGVzKSB7CiAgICByZXR1cm4gewogICAgICByZXNwb25zZTogewogICAgICAgIGFjdGlvbjogJ2NvbXBsZXRlJywKICAgICAgfQogICAgfTsKICB9CgogIGZvciAoY29uc3QgZmlsZSBvZiBmaWxlcykgewogICAgY29uc3QgbGkgPSBkb2N1bWVudC5jcmVhdGVFbGVtZW50KCdsaScpOwogICAgbGkuYXBwZW5kKHNwYW4oZmlsZS5uYW1lLCB7Zm9udFdlaWdodDogJ2JvbGQnfSkpOwogICAgbGkuYXBwZW5kKHNwYW4oCiAgICAgICAgYCgke2ZpbGUudHlwZSB8fCAnbi9hJ30pIC0gJHtmaWxlLnNpemV9IGJ5dGVzLCBgICsKICAgICAgICBgbGFzdCBtb2RpZmllZDogJHsKICAgICAgICAgICAgZmlsZS5sYXN0TW9kaWZpZWREYXRlID8gZmlsZS5sYXN0TW9kaWZpZWREYXRlLnRvTG9jYWxlRGF0ZVN0cmluZygpIDoKICAgICAgICAgICAgICAgICAgICAgICAgICAgICAgICAgICAgJ24vYSd9IC0gYCkpOwogICAgY29uc3QgcGVyY2VudCA9IHNwYW4oJzAlIGRvbmUnKTsKICAgIGxpLmFwcGVuZENoaWxkKHBlcmNlbnQpOwoKICAgIG91dHB1dEVsZW1lbnQuYXBwZW5kQ2hpbGQobGkpOwoKICAgIGNvbnN0IGZpbGVEYXRhUHJvbWlzZSA9IG5ldyBQcm9taXNlKChyZXNvbHZlKSA9PiB7CiAgICAgIGNvbnN0IHJlYWRlciA9IG5ldyBGaWxlUmVhZGVyKCk7CiAgICAgIHJlYWRlci5vbmxvYWQgPSAoZSkgPT4gewogICAgICAgIHJlc29sdmUoZS50YXJnZXQucmVzdWx0KTsKICAgICAgfTsKICAgICAgcmVhZGVyLnJlYWRBc0FycmF5QnVmZmVyKGZpbGUpOwogICAgfSk7CiAgICAvLyBXYWl0IGZvciB0aGUgZGF0YSB0byBiZSByZWFkeS4KICAgIGxldCBmaWxlRGF0YSA9IHlpZWxkIHsKICAgICAgcHJvbWlzZTogZmlsZURhdGFQcm9taXNlLAogICAgICByZXNwb25zZTogewogICAgICAgIGFjdGlvbjogJ2NvbnRpbnVlJywKICAgICAgfQogICAgfTsKCiAgICAvLyBVc2UgYSBjaHVua2VkIHNlbmRpbmcgdG8gYXZvaWQgbWVzc2FnZSBzaXplIGxpbWl0cy4gU2VlIGIvNjIxMTU2NjAuCiAgICBsZXQgcG9zaXRpb24gPSAwOwogICAgZG8gewogICAgICBjb25zdCBsZW5ndGggPSBNYXRoLm1pbihmaWxlRGF0YS5ieXRlTGVuZ3RoIC0gcG9zaXRpb24sIE1BWF9QQVlMT0FEX1NJWkUpOwogICAgICBjb25zdCBjaHVuayA9IG5ldyBVaW50OEFycmF5KGZpbGVEYXRhLCBwb3NpdGlvbiwgbGVuZ3RoKTsKICAgICAgcG9zaXRpb24gKz0gbGVuZ3RoOwoKICAgICAgY29uc3QgYmFzZTY0ID0gYnRvYShTdHJpbmcuZnJvbUNoYXJDb2RlLmFwcGx5KG51bGwsIGNodW5rKSk7CiAgICAgIHlpZWxkIHsKICAgICAgICByZXNwb25zZTogewogICAgICAgICAgYWN0aW9uOiAnYXBwZW5kJywKICAgICAgICAgIGZpbGU6IGZpbGUubmFtZSwKICAgICAgICAgIGRhdGE6IGJhc2U2NCwKICAgICAgICB9LAogICAgICB9OwoKICAgICAgbGV0IHBlcmNlbnREb25lID0gZmlsZURhdGEuYnl0ZUxlbmd0aCA9PT0gMCA/CiAgICAgICAgICAxMDAgOgogICAgICAgICAgTWF0aC5yb3VuZCgocG9zaXRpb24gLyBmaWxlRGF0YS5ieXRlTGVuZ3RoKSAqIDEwMCk7CiAgICAgIHBlcmNlbnQudGV4dENvbnRlbnQgPSBgJHtwZXJjZW50RG9uZX0lIGRvbmVgOwoKICAgIH0gd2hpbGUgKHBvc2l0aW9uIDwgZmlsZURhdGEuYnl0ZUxlbmd0aCk7CiAgfQoKICAvLyBBbGwgZG9uZS4KICB5aWVsZCB7CiAgICByZXNwb25zZTogewogICAgICBhY3Rpb246ICdjb21wbGV0ZScsCiAgICB9CiAgfTsKfQoKc2NvcGUuZ29vZ2xlID0gc2NvcGUuZ29vZ2xlIHx8IHt9OwpzY29wZS5nb29nbGUuY29sYWIgPSBzY29wZS5nb29nbGUuY29sYWIgfHwge307CnNjb3BlLmdvb2dsZS5jb2xhYi5fZmlsZXMgPSB7CiAgX3VwbG9hZEZpbGVzLAogIF91cGxvYWRGaWxlc0NvbnRpbnVlLAp9Owp9KShzZWxmKTsK",
              "ok": true,
              "headers": [
                [
                  "content-type",
                  "application/javascript"
                ]
              ],
              "status": 200,
              "status_text": ""
            }
          },
          "base_uri": "https://localhost:8080/",
          "height": 72
        },
        "id": "c_SNO7zCYsib",
        "outputId": "75944668-5c3e-4a71-87b4-cc9c8d78a398"
      },
      "source": [
        "from google.colab import files\n",
        "filenya = files.upload()"
      ],
      "execution_count": 2,
      "outputs": [
        {
          "output_type": "display_data",
          "data": {
            "text/html": [
              "\n",
              "     <input type=\"file\" id=\"files-012f5e19-f2aa-4419-b250-2d26a85efc1f\" name=\"files[]\" multiple disabled\n",
              "        style=\"border:none\" />\n",
              "     <output id=\"result-012f5e19-f2aa-4419-b250-2d26a85efc1f\">\n",
              "      Upload widget is only available when the cell has been executed in the\n",
              "      current browser session. Please rerun this cell to enable.\n",
              "      </output>\n",
              "      <script src=\"/nbextensions/google.colab/files.js\"></script> "
            ],
            "text/plain": [
              "<IPython.core.display.HTML object>"
            ]
          },
          "metadata": {}
        },
        {
          "output_type": "stream",
          "name": "stdout",
          "text": [
            "Saving exams.csv to exams.csv\n"
          ]
        }
      ]
    },
    {
      "cell_type": "code",
      "metadata": {
        "colab": {
          "base_uri": "https://localhost:8080/",
          "height": 340
        },
        "id": "JD8buHlmYwgw",
        "outputId": "34817c1e-32c8-451f-e1a9-f9e1378631de"
      },
      "source": [
        "df = pd.read_csv('exams.csv') \n",
        "df.head()"
      ],
      "execution_count": 25,
      "outputs": [
        {
          "output_type": "execute_result",
          "data": {
            "text/html": [
              "<div>\n",
              "<style scoped>\n",
              "    .dataframe tbody tr th:only-of-type {\n",
              "        vertical-align: middle;\n",
              "    }\n",
              "\n",
              "    .dataframe tbody tr th {\n",
              "        vertical-align: top;\n",
              "    }\n",
              "\n",
              "    .dataframe thead th {\n",
              "        text-align: right;\n",
              "    }\n",
              "</style>\n",
              "<table border=\"1\" class=\"dataframe\">\n",
              "  <thead>\n",
              "    <tr style=\"text-align: right;\">\n",
              "      <th></th>\n",
              "      <th>Exam Subject</th>\n",
              "      <th>Score</th>\n",
              "      <th>Students (11th Grade)</th>\n",
              "      <th>Students (12th Grade)</th>\n",
              "      <th>Students (Male)</th>\n",
              "      <th>Students (Female)</th>\n",
              "      <th>Students (White)</th>\n",
              "      <th>Students (Black)</th>\n",
              "      <th>Students (Hispanic/Latino)</th>\n",
              "      <th>Students (Asian)</th>\n",
              "      <th>Students (American Indian/Alaska Native)</th>\n",
              "      <th>Students (Native Hawaiian/Pacific Islander)</th>\n",
              "      <th>Students (Two or More Races)</th>\n",
              "      <th>All Students (2016)</th>\n",
              "    </tr>\n",
              "  </thead>\n",
              "  <tbody>\n",
              "    <tr>\n",
              "      <th>0</th>\n",
              "      <td>ART HISTORY</td>\n",
              "      <td>5</td>\n",
              "      <td>897.0</td>\n",
              "      <td>1260.0</td>\n",
              "      <td>815.0</td>\n",
              "      <td>1889.0</td>\n",
              "      <td>1631.0</td>\n",
              "      <td>34</td>\n",
              "      <td>321.0</td>\n",
              "      <td>514.0</td>\n",
              "      <td>5</td>\n",
              "      <td>5</td>\n",
              "      <td>154.0</td>\n",
              "      <td>2704.0</td>\n",
              "    </tr>\n",
              "    <tr>\n",
              "      <th>1</th>\n",
              "      <td>ART HISTORY</td>\n",
              "      <td>4</td>\n",
              "      <td>1835.0</td>\n",
              "      <td>2608.0</td>\n",
              "      <td>1800.0</td>\n",
              "      <td>3787.0</td>\n",
              "      <td>3290.0</td>\n",
              "      <td>132</td>\n",
              "      <td>918.0</td>\n",
              "      <td>877.0</td>\n",
              "      <td>13</td>\n",
              "      <td>8</td>\n",
              "      <td>273.0</td>\n",
              "      <td>5587.0</td>\n",
              "    </tr>\n",
              "    <tr>\n",
              "      <th>2</th>\n",
              "      <td>ART HISTORY</td>\n",
              "      <td>3</td>\n",
              "      <td>2311.0</td>\n",
              "      <td>3282.0</td>\n",
              "      <td>2283.0</td>\n",
              "      <td>4657.0</td>\n",
              "      <td>3898.0</td>\n",
              "      <td>287</td>\n",
              "      <td>1347.0</td>\n",
              "      <td>992.0</td>\n",
              "      <td>19</td>\n",
              "      <td>10</td>\n",
              "      <td>307.0</td>\n",
              "      <td>6940.0</td>\n",
              "    </tr>\n",
              "    <tr>\n",
              "      <th>3</th>\n",
              "      <td>ART HISTORY</td>\n",
              "      <td>2</td>\n",
              "      <td>2252.0</td>\n",
              "      <td>3248.0</td>\n",
              "      <td>2374.0</td>\n",
              "      <td>4494.0</td>\n",
              "      <td>3211.0</td>\n",
              "      <td>450</td>\n",
              "      <td>1972.0</td>\n",
              "      <td>809.0</td>\n",
              "      <td>15</td>\n",
              "      <td>21</td>\n",
              "      <td>280.0</td>\n",
              "      <td>6868.0</td>\n",
              "    </tr>\n",
              "    <tr>\n",
              "      <th>4</th>\n",
              "      <td>ART HISTORY</td>\n",
              "      <td>1</td>\n",
              "      <td>901.0</td>\n",
              "      <td>1352.0</td>\n",
              "      <td>1072.0</td>\n",
              "      <td>1699.0</td>\n",
              "      <td>942.0</td>\n",
              "      <td>307</td>\n",
              "      <td>1074.0</td>\n",
              "      <td>292.0</td>\n",
              "      <td>13</td>\n",
              "      <td>10</td>\n",
              "      <td>87.0</td>\n",
              "      <td>2771.0</td>\n",
              "    </tr>\n",
              "  </tbody>\n",
              "</table>\n",
              "</div>"
            ],
            "text/plain": [
              "  Exam Subject Score  ...  Students (Two or More Races)  All Students (2016)\n",
              "0  ART HISTORY     5  ...                         154.0               2704.0\n",
              "1  ART HISTORY     4  ...                         273.0               5587.0\n",
              "2  ART HISTORY     3  ...                         307.0               6940.0\n",
              "3  ART HISTORY     2  ...                         280.0               6868.0\n",
              "4  ART HISTORY     1  ...                          87.0               2771.0\n",
              "\n",
              "[5 rows x 14 columns]"
            ]
          },
          "metadata": {},
          "execution_count": 25
        }
      ]
    },
    {
      "cell_type": "code",
      "metadata": {
        "colab": {
          "base_uri": "https://localhost:8080/",
          "height": 204
        },
        "id": "EmYyn0zgYxm3",
        "outputId": "732a7b41-dd4b-4df6-fcec-75e540b2c426"
      },
      "source": [
        "df.drop(['Exam Subject', 'Score', 'Students (Hispanic/Latino)','Students (White)','Students (Black)', 'Students (Asian)', 'Students (American Indian/Alaska Native)', 'Students (Native Hawaiian/Pacific Islander)'], axis=1, inplace=True)\n",
        "df.head()"
      ],
      "execution_count": 26,
      "outputs": [
        {
          "output_type": "execute_result",
          "data": {
            "text/html": [
              "<div>\n",
              "<style scoped>\n",
              "    .dataframe tbody tr th:only-of-type {\n",
              "        vertical-align: middle;\n",
              "    }\n",
              "\n",
              "    .dataframe tbody tr th {\n",
              "        vertical-align: top;\n",
              "    }\n",
              "\n",
              "    .dataframe thead th {\n",
              "        text-align: right;\n",
              "    }\n",
              "</style>\n",
              "<table border=\"1\" class=\"dataframe\">\n",
              "  <thead>\n",
              "    <tr style=\"text-align: right;\">\n",
              "      <th></th>\n",
              "      <th>Students (11th Grade)</th>\n",
              "      <th>Students (12th Grade)</th>\n",
              "      <th>Students (Male)</th>\n",
              "      <th>Students (Female)</th>\n",
              "      <th>Students (Two or More Races)</th>\n",
              "      <th>All Students (2016)</th>\n",
              "    </tr>\n",
              "  </thead>\n",
              "  <tbody>\n",
              "    <tr>\n",
              "      <th>0</th>\n",
              "      <td>897.0</td>\n",
              "      <td>1260.0</td>\n",
              "      <td>815.0</td>\n",
              "      <td>1889.0</td>\n",
              "      <td>154.0</td>\n",
              "      <td>2704.0</td>\n",
              "    </tr>\n",
              "    <tr>\n",
              "      <th>1</th>\n",
              "      <td>1835.0</td>\n",
              "      <td>2608.0</td>\n",
              "      <td>1800.0</td>\n",
              "      <td>3787.0</td>\n",
              "      <td>273.0</td>\n",
              "      <td>5587.0</td>\n",
              "    </tr>\n",
              "    <tr>\n",
              "      <th>2</th>\n",
              "      <td>2311.0</td>\n",
              "      <td>3282.0</td>\n",
              "      <td>2283.0</td>\n",
              "      <td>4657.0</td>\n",
              "      <td>307.0</td>\n",
              "      <td>6940.0</td>\n",
              "    </tr>\n",
              "    <tr>\n",
              "      <th>3</th>\n",
              "      <td>2252.0</td>\n",
              "      <td>3248.0</td>\n",
              "      <td>2374.0</td>\n",
              "      <td>4494.0</td>\n",
              "      <td>280.0</td>\n",
              "      <td>6868.0</td>\n",
              "    </tr>\n",
              "    <tr>\n",
              "      <th>4</th>\n",
              "      <td>901.0</td>\n",
              "      <td>1352.0</td>\n",
              "      <td>1072.0</td>\n",
              "      <td>1699.0</td>\n",
              "      <td>87.0</td>\n",
              "      <td>2771.0</td>\n",
              "    </tr>\n",
              "  </tbody>\n",
              "</table>\n",
              "</div>"
            ],
            "text/plain": [
              "   Students (11th Grade)  ...  All Students (2016)\n",
              "0                  897.0  ...               2704.0\n",
              "1                 1835.0  ...               5587.0\n",
              "2                 2311.0  ...               6940.0\n",
              "3                 2252.0  ...               6868.0\n",
              "4                  901.0  ...               2771.0\n",
              "\n",
              "[5 rows x 6 columns]"
            ]
          },
          "metadata": {},
          "execution_count": 26
        }
      ]
    },
    {
      "cell_type": "code",
      "metadata": {
        "colab": {
          "base_uri": "https://localhost:8080/",
          "height": 419
        },
        "id": "ft9mfbKLY_qA",
        "outputId": "0f8e2732-072a-435d-c690-8bfe54d2b0f6"
      },
      "source": [
        "df.dropna(inplace=True)\n",
        "data = df.reset_index(drop=True)\n",
        "data"
      ],
      "execution_count": 27,
      "outputs": [
        {
          "output_type": "execute_result",
          "data": {
            "text/html": [
              "<div>\n",
              "<style scoped>\n",
              "    .dataframe tbody tr th:only-of-type {\n",
              "        vertical-align: middle;\n",
              "    }\n",
              "\n",
              "    .dataframe tbody tr th {\n",
              "        vertical-align: top;\n",
              "    }\n",
              "\n",
              "    .dataframe thead th {\n",
              "        text-align: right;\n",
              "    }\n",
              "</style>\n",
              "<table border=\"1\" class=\"dataframe\">\n",
              "  <thead>\n",
              "    <tr style=\"text-align: right;\">\n",
              "      <th></th>\n",
              "      <th>Students (11th Grade)</th>\n",
              "      <th>Students (12th Grade)</th>\n",
              "      <th>Students (Male)</th>\n",
              "      <th>Students (Female)</th>\n",
              "      <th>Students (Two or More Races)</th>\n",
              "      <th>All Students (2016)</th>\n",
              "    </tr>\n",
              "  </thead>\n",
              "  <tbody>\n",
              "    <tr>\n",
              "      <th>0</th>\n",
              "      <td>897.00</td>\n",
              "      <td>1260.00</td>\n",
              "      <td>815.00</td>\n",
              "      <td>1889.0</td>\n",
              "      <td>154.00</td>\n",
              "      <td>2704.0</td>\n",
              "    </tr>\n",
              "    <tr>\n",
              "      <th>1</th>\n",
              "      <td>1835.00</td>\n",
              "      <td>2608.00</td>\n",
              "      <td>1800.00</td>\n",
              "      <td>3787.0</td>\n",
              "      <td>273.00</td>\n",
              "      <td>5587.0</td>\n",
              "    </tr>\n",
              "    <tr>\n",
              "      <th>2</th>\n",
              "      <td>2311.00</td>\n",
              "      <td>3282.00</td>\n",
              "      <td>2283.00</td>\n",
              "      <td>4657.0</td>\n",
              "      <td>307.00</td>\n",
              "      <td>6940.0</td>\n",
              "    </tr>\n",
              "    <tr>\n",
              "      <th>3</th>\n",
              "      <td>2252.00</td>\n",
              "      <td>3248.00</td>\n",
              "      <td>2374.00</td>\n",
              "      <td>4494.0</td>\n",
              "      <td>280.00</td>\n",
              "      <td>6868.0</td>\n",
              "    </tr>\n",
              "    <tr>\n",
              "      <th>4</th>\n",
              "      <td>901.00</td>\n",
              "      <td>1352.00</td>\n",
              "      <td>1072.00</td>\n",
              "      <td>1699.0</td>\n",
              "      <td>87.00</td>\n",
              "      <td>2771.0</td>\n",
              "    </tr>\n",
              "    <tr>\n",
              "      <th>...</th>\n",
              "      <td>...</td>\n",
              "      <td>...</td>\n",
              "      <td>...</td>\n",
              "      <td>...</td>\n",
              "      <td>...</td>\n",
              "      <td>...</td>\n",
              "    </tr>\n",
              "    <tr>\n",
              "      <th>254</th>\n",
              "      <td>6545.00</td>\n",
              "      <td>2420.00</td>\n",
              "      <td>39591.00</td>\n",
              "      <td>42884.0</td>\n",
              "      <td>4002.00</td>\n",
              "      <td>82475.0</td>\n",
              "    </tr>\n",
              "    <tr>\n",
              "      <th>255</th>\n",
              "      <td>5339.00</td>\n",
              "      <td>1994.00</td>\n",
              "      <td>33795.00</td>\n",
              "      <td>47281.0</td>\n",
              "      <td>3847.00</td>\n",
              "      <td>81076.0</td>\n",
              "    </tr>\n",
              "    <tr>\n",
              "      <th>256</th>\n",
              "      <td>2863.00</td>\n",
              "      <td>1452.00</td>\n",
              "      <td>21091.00</td>\n",
              "      <td>34966.0</td>\n",
              "      <td>2268.00</td>\n",
              "      <td>56057.0</td>\n",
              "    </tr>\n",
              "    <tr>\n",
              "      <th>257</th>\n",
              "      <td>20642.00</td>\n",
              "      <td>8204.00</td>\n",
              "      <td>125991.00</td>\n",
              "      <td>155455.0</td>\n",
              "      <td>13176.00</td>\n",
              "      <td>281446.0</td>\n",
              "    </tr>\n",
              "    <tr>\n",
              "      <th>258</th>\n",
              "      <td>2.84</td>\n",
              "      <td>2.78</td>\n",
              "      <td>2.72</td>\n",
              "      <td>2.5</td>\n",
              "      <td>2.66</td>\n",
              "      <td>2.6</td>\n",
              "    </tr>\n",
              "  </tbody>\n",
              "</table>\n",
              "<p>259 rows × 6 columns</p>\n",
              "</div>"
            ],
            "text/plain": [
              "     Students (11th Grade)  ...  All Students (2016)\n",
              "0                   897.00  ...               2704.0\n",
              "1                  1835.00  ...               5587.0\n",
              "2                  2311.00  ...               6940.0\n",
              "3                  2252.00  ...               6868.0\n",
              "4                   901.00  ...               2771.0\n",
              "..                     ...  ...                  ...\n",
              "254                6545.00  ...              82475.0\n",
              "255                5339.00  ...              81076.0\n",
              "256                2863.00  ...              56057.0\n",
              "257               20642.00  ...             281446.0\n",
              "258                   2.84  ...                  2.6\n",
              "\n",
              "[259 rows x 6 columns]"
            ]
          },
          "metadata": {},
          "execution_count": 27
        }
      ]
    },
    {
      "cell_type": "code",
      "metadata": {
        "colab": {
          "base_uri": "https://localhost:8080/",
          "height": 419
        },
        "id": "b1sF0OL6aANO",
        "outputId": "b692c012-55a6-42c9-a912-f3323223e5eb"
      },
      "source": [
        "data"
      ],
      "execution_count": 28,
      "outputs": [
        {
          "output_type": "execute_result",
          "data": {
            "text/html": [
              "<div>\n",
              "<style scoped>\n",
              "    .dataframe tbody tr th:only-of-type {\n",
              "        vertical-align: middle;\n",
              "    }\n",
              "\n",
              "    .dataframe tbody tr th {\n",
              "        vertical-align: top;\n",
              "    }\n",
              "\n",
              "    .dataframe thead th {\n",
              "        text-align: right;\n",
              "    }\n",
              "</style>\n",
              "<table border=\"1\" class=\"dataframe\">\n",
              "  <thead>\n",
              "    <tr style=\"text-align: right;\">\n",
              "      <th></th>\n",
              "      <th>Students (11th Grade)</th>\n",
              "      <th>Students (12th Grade)</th>\n",
              "      <th>Students (Male)</th>\n",
              "      <th>Students (Female)</th>\n",
              "      <th>Students (Two or More Races)</th>\n",
              "      <th>All Students (2016)</th>\n",
              "    </tr>\n",
              "  </thead>\n",
              "  <tbody>\n",
              "    <tr>\n",
              "      <th>0</th>\n",
              "      <td>897.00</td>\n",
              "      <td>1260.00</td>\n",
              "      <td>815.00</td>\n",
              "      <td>1889.0</td>\n",
              "      <td>154.00</td>\n",
              "      <td>2704.0</td>\n",
              "    </tr>\n",
              "    <tr>\n",
              "      <th>1</th>\n",
              "      <td>1835.00</td>\n",
              "      <td>2608.00</td>\n",
              "      <td>1800.00</td>\n",
              "      <td>3787.0</td>\n",
              "      <td>273.00</td>\n",
              "      <td>5587.0</td>\n",
              "    </tr>\n",
              "    <tr>\n",
              "      <th>2</th>\n",
              "      <td>2311.00</td>\n",
              "      <td>3282.00</td>\n",
              "      <td>2283.00</td>\n",
              "      <td>4657.0</td>\n",
              "      <td>307.00</td>\n",
              "      <td>6940.0</td>\n",
              "    </tr>\n",
              "    <tr>\n",
              "      <th>3</th>\n",
              "      <td>2252.00</td>\n",
              "      <td>3248.00</td>\n",
              "      <td>2374.00</td>\n",
              "      <td>4494.0</td>\n",
              "      <td>280.00</td>\n",
              "      <td>6868.0</td>\n",
              "    </tr>\n",
              "    <tr>\n",
              "      <th>4</th>\n",
              "      <td>901.00</td>\n",
              "      <td>1352.00</td>\n",
              "      <td>1072.00</td>\n",
              "      <td>1699.0</td>\n",
              "      <td>87.00</td>\n",
              "      <td>2771.0</td>\n",
              "    </tr>\n",
              "    <tr>\n",
              "      <th>...</th>\n",
              "      <td>...</td>\n",
              "      <td>...</td>\n",
              "      <td>...</td>\n",
              "      <td>...</td>\n",
              "      <td>...</td>\n",
              "      <td>...</td>\n",
              "    </tr>\n",
              "    <tr>\n",
              "      <th>254</th>\n",
              "      <td>6545.00</td>\n",
              "      <td>2420.00</td>\n",
              "      <td>39591.00</td>\n",
              "      <td>42884.0</td>\n",
              "      <td>4002.00</td>\n",
              "      <td>82475.0</td>\n",
              "    </tr>\n",
              "    <tr>\n",
              "      <th>255</th>\n",
              "      <td>5339.00</td>\n",
              "      <td>1994.00</td>\n",
              "      <td>33795.00</td>\n",
              "      <td>47281.0</td>\n",
              "      <td>3847.00</td>\n",
              "      <td>81076.0</td>\n",
              "    </tr>\n",
              "    <tr>\n",
              "      <th>256</th>\n",
              "      <td>2863.00</td>\n",
              "      <td>1452.00</td>\n",
              "      <td>21091.00</td>\n",
              "      <td>34966.0</td>\n",
              "      <td>2268.00</td>\n",
              "      <td>56057.0</td>\n",
              "    </tr>\n",
              "    <tr>\n",
              "      <th>257</th>\n",
              "      <td>20642.00</td>\n",
              "      <td>8204.00</td>\n",
              "      <td>125991.00</td>\n",
              "      <td>155455.0</td>\n",
              "      <td>13176.00</td>\n",
              "      <td>281446.0</td>\n",
              "    </tr>\n",
              "    <tr>\n",
              "      <th>258</th>\n",
              "      <td>2.84</td>\n",
              "      <td>2.78</td>\n",
              "      <td>2.72</td>\n",
              "      <td>2.5</td>\n",
              "      <td>2.66</td>\n",
              "      <td>2.6</td>\n",
              "    </tr>\n",
              "  </tbody>\n",
              "</table>\n",
              "<p>259 rows × 6 columns</p>\n",
              "</div>"
            ],
            "text/plain": [
              "     Students (11th Grade)  ...  All Students (2016)\n",
              "0                   897.00  ...               2704.0\n",
              "1                  1835.00  ...               5587.0\n",
              "2                  2311.00  ...               6940.0\n",
              "3                  2252.00  ...               6868.0\n",
              "4                   901.00  ...               2771.0\n",
              "..                     ...  ...                  ...\n",
              "254                6545.00  ...              82475.0\n",
              "255                5339.00  ...              81076.0\n",
              "256                2863.00  ...              56057.0\n",
              "257               20642.00  ...             281446.0\n",
              "258                   2.84  ...                  2.6\n",
              "\n",
              "[259 rows x 6 columns]"
            ]
          },
          "metadata": {},
          "execution_count": 28
        }
      ]
    },
    {
      "cell_type": "code",
      "metadata": {
        "colab": {
          "base_uri": "https://localhost:8080/"
        },
        "id": "o9kF7teQaBkI",
        "outputId": "6358db72-6833-48e7-e5ce-114d9fb02844"
      },
      "source": [
        "df_scale = data.copy()\n",
        "\n",
        "scaler = StandardScaler()\n",
        "\n",
        "df_scale = scaler.fit_transform(df_scale)\n",
        "len(df_scale)"
      ],
      "execution_count": 29,
      "outputs": [
        {
          "output_type": "execute_result",
          "data": {
            "text/plain": [
              "259"
            ]
          },
          "metadata": {},
          "execution_count": 29
        }
      ]
    },
    {
      "cell_type": "code",
      "metadata": {
        "colab": {
          "base_uri": "https://localhost:8080/"
        },
        "id": "9XoOSE3-cKGC",
        "outputId": "c0df1a54-6ec7-423e-ee41-e92a7fbf89dc"
      },
      "source": [
        "data = pd.DataFrame(df_scale)\n",
        "data.columns = df.columns\n",
        "\n",
        "data_cluster = data.copy()\n",
        "data.head()\n",
        "data.shape"
      ],
      "execution_count": 30,
      "outputs": [
        {
          "output_type": "execute_result",
          "data": {
            "text/plain": [
              "(259, 6)"
            ]
          },
          "metadata": {},
          "execution_count": 30
        }
      ]
    },
    {
      "cell_type": "markdown",
      "metadata": {
        "id": "Ow-avB1qcMfB"
      },
      "source": [
        "**K-Means**"
      ]
    },
    {
      "cell_type": "code",
      "metadata": {
        "colab": {
          "base_uri": "https://localhost:8080/",
          "height": 312
        },
        "id": "2PIqQQu0cPcC",
        "outputId": "74479d67-fa48-4ef6-ebba-fabd26d460ad"
      },
      "source": [
        "from sklearn.cluster import KMeans\n",
        "\n",
        "clusters = []\n",
        "for i in range (1,11):\n",
        "    km = KMeans(n_clusters=i).fit(data)\n",
        "    clusters.append(km.inertia_)\n",
        "\n",
        "# tampilkan plot\n",
        "fig, ax = plt.subplots(figsize=(8,4))\n",
        "sns.lineplot(x=list(range(1,11)), y=clusters, ax=ax)\n",
        "ax.set_title('Elbow')\n",
        "ax.set_xlabel('Clusters')\n",
        "ax.set_ylabel('Inertia')"
      ],
      "execution_count": 31,
      "outputs": [
        {
          "output_type": "execute_result",
          "data": {
            "text/plain": [
              "Text(0, 0.5, 'Inertia')"
            ]
          },
          "metadata": {},
          "execution_count": 31
        },
        {
          "output_type": "display_data",
          "data": {
            "image/png": "[encoded data removed]",
            "text/plain": [
              "<Figure size 576x288 with 1 Axes>"
            ]
          },
          "metadata": {
            "needs_background": "light"
          }
        }
      ]
    },
    {
      "cell_type": "code",
      "metadata": {
        "colab": {
          "base_uri": "https://localhost:8080/",
          "height": 436
        },
        "id": "BuMr0t3wcTD3",
        "outputId": "5585b818-c81a-43f6-a716-d75c70ee6fa6"
      },
      "source": [
        "model_kmeans3 = KMeans(n_clusters=3)\n",
        "model_kmeans4 = KMeans(n_clusters=4)\n",
        "\n",
        "# Train Model\n",
        "model_kmeans3.fit(data)\n",
        "model_kmeans4.fit(data)\n",
        "\n",
        "# # Menambah Label pada data\n",
        "data_cluster['cluster_kmeans3'] = model_kmeans3.labels_\n",
        "data_cluster['cluster_kmeans4'] = model_kmeans4.labels_\n",
        "\n",
        "data_cluster"
      ],
      "execution_count": 32,
      "outputs": [
        {
          "output_type": "execute_result",
          "data": {
            "text/html": [
              "<div>\n",
              "<style scoped>\n",
              "    .dataframe tbody tr th:only-of-type {\n",
              "        vertical-align: middle;\n",
              "    }\n",
              "\n",
              "    .dataframe tbody tr th {\n",
              "        vertical-align: top;\n",
              "    }\n",
              "\n",
              "    .dataframe thead th {\n",
              "        text-align: right;\n",
              "    }\n",
              "</style>\n",
              "<table border=\"1\" class=\"dataframe\">\n",
              "  <thead>\n",
              "    <tr style=\"text-align: right;\">\n",
              "      <th></th>\n",
              "      <th>Students (11th Grade)</th>\n",
              "      <th>Students (12th Grade)</th>\n",
              "      <th>Students (Male)</th>\n",
              "      <th>Students (Female)</th>\n",
              "      <th>Students (Two or More Races)</th>\n",
              "      <th>All Students (2016)</th>\n",
              "      <th>cluster_kmeans3</th>\n",
              "      <th>cluster_kmeans4</th>\n",
              "    </tr>\n",
              "  </thead>\n",
              "  <tbody>\n",
              "    <tr>\n",
              "      <th>0</th>\n",
              "      <td>-0.293119</td>\n",
              "      <td>-0.396208</td>\n",
              "      <td>-0.501567</td>\n",
              "      <td>-0.428746</td>\n",
              "      <td>-0.435548</td>\n",
              "      <td>-0.464537</td>\n",
              "      <td>0</td>\n",
              "      <td>1</td>\n",
              "    </tr>\n",
              "    <tr>\n",
              "      <th>1</th>\n",
              "      <td>-0.271446</td>\n",
              "      <td>-0.357183</td>\n",
              "      <td>-0.468635</td>\n",
              "      <td>-0.382250</td>\n",
              "      <td>-0.395796</td>\n",
              "      <td>-0.423333</td>\n",
              "      <td>0</td>\n",
              "      <td>1</td>\n",
              "    </tr>\n",
              "    <tr>\n",
              "      <th>2</th>\n",
              "      <td>-0.260448</td>\n",
              "      <td>-0.337670</td>\n",
              "      <td>-0.452487</td>\n",
              "      <td>-0.360937</td>\n",
              "      <td>-0.384438</td>\n",
              "      <td>-0.403996</td>\n",
              "      <td>0</td>\n",
              "      <td>1</td>\n",
              "    </tr>\n",
              "    <tr>\n",
              "      <th>3</th>\n",
              "      <td>-0.261811</td>\n",
              "      <td>-0.338654</td>\n",
              "      <td>-0.449444</td>\n",
              "      <td>-0.364930</td>\n",
              "      <td>-0.393458</td>\n",
              "      <td>-0.405025</td>\n",
              "      <td>0</td>\n",
              "      <td>1</td>\n",
              "    </tr>\n",
              "    <tr>\n",
              "      <th>4</th>\n",
              "      <td>-0.293026</td>\n",
              "      <td>-0.393545</td>\n",
              "      <td>-0.492975</td>\n",
              "      <td>-0.433400</td>\n",
              "      <td>-0.457930</td>\n",
              "      <td>-0.463580</td>\n",
              "      <td>0</td>\n",
              "      <td>1</td>\n",
              "    </tr>\n",
              "    <tr>\n",
              "      <th>...</th>\n",
              "      <td>...</td>\n",
              "      <td>...</td>\n",
              "      <td>...</td>\n",
              "      <td>...</td>\n",
              "      <td>...</td>\n",
              "      <td>...</td>\n",
              "      <td>...</td>\n",
              "      <td>...</td>\n",
              "    </tr>\n",
              "    <tr>\n",
              "      <th>254</th>\n",
              "      <td>-0.162619</td>\n",
              "      <td>-0.362626</td>\n",
              "      <td>0.794854</td>\n",
              "      <td>0.575523</td>\n",
              "      <td>0.849894</td>\n",
              "      <td>0.675555</td>\n",
              "      <td>0</td>\n",
              "      <td>0</td>\n",
              "    </tr>\n",
              "    <tr>\n",
              "      <th>255</th>\n",
              "      <td>-0.190484</td>\n",
              "      <td>-0.374958</td>\n",
              "      <td>0.601073</td>\n",
              "      <td>0.683238</td>\n",
              "      <td>0.798116</td>\n",
              "      <td>0.655560</td>\n",
              "      <td>0</td>\n",
              "      <td>0</td>\n",
              "    </tr>\n",
              "    <tr>\n",
              "      <th>256</th>\n",
              "      <td>-0.247693</td>\n",
              "      <td>-0.390650</td>\n",
              "      <td>0.176332</td>\n",
              "      <td>0.381553</td>\n",
              "      <td>0.270643</td>\n",
              "      <td>0.297987</td>\n",
              "      <td>0</td>\n",
              "      <td>1</td>\n",
              "    </tr>\n",
              "    <tr>\n",
              "      <th>257</th>\n",
              "      <td>0.163098</td>\n",
              "      <td>-0.195175</td>\n",
              "      <td>3.683517</td>\n",
              "      <td>3.333216</td>\n",
              "      <td>3.914512</td>\n",
              "      <td>3.519261</td>\n",
              "      <td>1</td>\n",
              "      <td>2</td>\n",
              "    </tr>\n",
              "    <tr>\n",
              "      <th>258</th>\n",
              "      <td>-0.313779</td>\n",
              "      <td>-0.432606</td>\n",
              "      <td>-0.528725</td>\n",
              "      <td>-0.474960</td>\n",
              "      <td>-0.486104</td>\n",
              "      <td>-0.503146</td>\n",
              "      <td>0</td>\n",
              "      <td>1</td>\n",
              "    </tr>\n",
              "  </tbody>\n",
              "</table>\n",
              "<p>259 rows × 8 columns</p>\n",
              "</div>"
            ],
            "text/plain": [
              "     Students (11th Grade)  ...  cluster_kmeans4\n",
              "0                -0.293119  ...                1\n",
              "1                -0.271446  ...                1\n",
              "2                -0.260448  ...                1\n",
              "3                -0.261811  ...                1\n",
              "4                -0.293026  ...                1\n",
              "..                     ...  ...              ...\n",
              "254              -0.162619  ...                0\n",
              "255              -0.190484  ...                0\n",
              "256              -0.247693  ...                1\n",
              "257               0.163098  ...                2\n",
              "258              -0.313779  ...                1\n",
              "\n",
              "[259 rows x 8 columns]"
            ]
          },
          "metadata": {},
          "execution_count": 32
        }
      ]
    },
    {
      "cell_type": "code",
      "metadata": {
        "colab": {
          "base_uri": "https://localhost:8080/",
          "height": 661
        },
        "id": "TjpDoTLscWkV",
        "outputId": "6d0b6494-8af9-4b85-bb5b-6b3b50caff75"
      },
      "source": [
        "plt.figure(figsize=(8,4))\n",
        "sns.scatterplot(data_cluster['Students (11th Grade)'], data_cluster['Students (12th Grade)'], hue=data_cluster['cluster_kmeans3'], palette=sns.color_palette('hls',3))\n",
        "plt.title(' KMeans 3 cluster')\n",
        "\n",
        "plt.figure(figsize=(8,4))\n",
        "sns.scatterplot(data_cluster['Students (11th Grade)'], data_cluster['Students (12th Grade)'], hue=data_cluster['cluster_kmeans4'], palette=sns.color_palette('hls',4))\n",
        "plt.title(' KMeans 4 cluster')\n",
        "plt.show()"
      ],
      "execution_count": 37,
      "outputs": [
        {
          "output_type": "stream",
          "name": "stderr",
          "text": [
            "/usr/local/lib/python3.7/dist-packages/seaborn/_decorators.py:43: FutureWarning: Pass the following variables as keyword args: x, y. From version 0.12, the only valid positional argument will be `data`, and passing other arguments without an explicit keyword will result in an error or misinterpretation.\n",
            "  FutureWarning\n",
            "/usr/local/lib/python3.7/dist-packages/seaborn/_decorators.py:43: FutureWarning: Pass the following variables as keyword args: x, y. From version 0.12, the only valid positional argument will be `data`, and passing other arguments without an explicit keyword will result in an error or misinterpretation.\n",
            "  FutureWarning\n"
          ]
        },
        {
          "output_type": "display_data",
          "data": {
            "image/png": "[encoded data removed]",
            "text/plain": [
              "<Figure size 576x288 with 1 Axes>"
            ]
          },
          "metadata": {
            "needs_background": "light"
          }
        },
        {
          "output_type": "display_data",
          "data": {
            "image/png": "[encoded data removed]",
            "text/plain": [
              "<Figure size 576x288 with 1 Axes>"
            ]
          },
          "metadata": {
            "needs_background": "light"
          }
        }
      ]
    },
    {
      "cell_type": "code",
      "metadata": {
        "colab": {
          "base_uri": "https://localhost:8080/"
        },
        "id": "it_WbLYkdHHJ",
        "outputId": "dbc2f6b6-f00f-4b5a-ec35-a740972db6e1"
      },
      "source": [
        "!pip install scikit-learn-extra\n",
        "from sklearn_extra.cluster import KMedoids"
      ],
      "execution_count": 39,
      "outputs": [
        {
          "output_type": "stream",
          "name": "stdout",
          "text": [
            "Requirement already satisfied: scikit-learn-extra in /usr/local/lib/python3.7/dist-packages (0.2.0)\n",
            "Requirement already satisfied: scipy>=0.19.1 in /usr/local/lib/python3.7/dist-packages (from scikit-learn-extra) (1.4.1)\n",
            "Requirement already satisfied: numpy>=1.13.3 in /usr/local/lib/python3.7/dist-packages (from scikit-learn-extra) (1.19.5)\n",
            "Requirement already satisfied: scikit-learn>=0.23.0 in /usr/local/lib/python3.7/dist-packages (from scikit-learn-extra) (0.24.2)\n",
            "Requirement already satisfied: joblib>=0.11 in /usr/local/lib/python3.7/dist-packages (from scikit-learn>=0.23.0->scikit-learn-extra) (1.0.1)\n",
            "Requirement already satisfied: threadpoolctl>=2.0.0 in /usr/local/lib/python3.7/dist-packages (from scikit-learn>=0.23.0->scikit-learn-extra) (2.2.0)\n"
          ]
        }
      ]
    },
    {
      "cell_type": "code",
      "metadata": {
        "colab": {
          "base_uri": "https://localhost:8080/",
          "height": 436
        },
        "id": "iJ7OoVfMdQeX",
        "outputId": "c3a502f1-30b5-47bf-c91c-95e1b21e21e7"
      },
      "source": [
        "model_kmedoids = KMedoids(n_clusters=4, random_state=0)\n",
        "model_kmedoids.fit(data)\n",
        "\n",
        "data_cluster['Cluster K-Medoids'] = model_kmedoids.labels_\n",
        "data_cluster"
      ],
      "execution_count": 40,
      "outputs": [
        {
          "output_type": "execute_result",
          "data": {
            "text/html": [
              "<div>\n",
              "<style scoped>\n",
              "    .dataframe tbody tr th:only-of-type {\n",
              "        vertical-align: middle;\n",
              "    }\n",
              "\n",
              "    .dataframe tbody tr th {\n",
              "        vertical-align: top;\n",
              "    }\n",
              "\n",
              "    .dataframe thead th {\n",
              "        text-align: right;\n",
              "    }\n",
              "</style>\n",
              "<table border=\"1\" class=\"dataframe\">\n",
              "  <thead>\n",
              "    <tr style=\"text-align: right;\">\n",
              "      <th></th>\n",
              "      <th>Students (11th Grade)</th>\n",
              "      <th>Students (12th Grade)</th>\n",
              "      <th>Students (Male)</th>\n",
              "      <th>Students (Female)</th>\n",
              "      <th>Students (Two or More Races)</th>\n",
              "      <th>All Students (2016)</th>\n",
              "      <th>cluster_kmeans3</th>\n",
              "      <th>cluster_kmeans4</th>\n",
              "      <th>Cluster K-Medoids</th>\n",
              "    </tr>\n",
              "  </thead>\n",
              "  <tbody>\n",
              "    <tr>\n",
              "      <th>0</th>\n",
              "      <td>-0.293119</td>\n",
              "      <td>-0.396208</td>\n",
              "      <td>-0.501567</td>\n",
              "      <td>-0.428746</td>\n",
              "      <td>-0.435548</td>\n",
              "      <td>-0.464537</td>\n",
              "      <td>0</td>\n",
              "      <td>1</td>\n",
              "      <td>2</td>\n",
              "    </tr>\n",
              "    <tr>\n",
              "      <th>1</th>\n",
              "      <td>-0.271446</td>\n",
              "      <td>-0.357183</td>\n",
              "      <td>-0.468635</td>\n",
              "      <td>-0.382250</td>\n",
              "      <td>-0.395796</td>\n",
              "      <td>-0.423333</td>\n",
              "      <td>0</td>\n",
              "      <td>1</td>\n",
              "      <td>1</td>\n",
              "    </tr>\n",
              "    <tr>\n",
              "      <th>2</th>\n",
              "      <td>-0.260448</td>\n",
              "      <td>-0.337670</td>\n",
              "      <td>-0.452487</td>\n",
              "      <td>-0.360937</td>\n",
              "      <td>-0.384438</td>\n",
              "      <td>-0.403996</td>\n",
              "      <td>0</td>\n",
              "      <td>1</td>\n",
              "      <td>1</td>\n",
              "    </tr>\n",
              "    <tr>\n",
              "      <th>3</th>\n",
              "      <td>-0.261811</td>\n",
              "      <td>-0.338654</td>\n",
              "      <td>-0.449444</td>\n",
              "      <td>-0.364930</td>\n",
              "      <td>-0.393458</td>\n",
              "      <td>-0.405025</td>\n",
              "      <td>0</td>\n",
              "      <td>1</td>\n",
              "      <td>1</td>\n",
              "    </tr>\n",
              "    <tr>\n",
              "      <th>4</th>\n",
              "      <td>-0.293026</td>\n",
              "      <td>-0.393545</td>\n",
              "      <td>-0.492975</td>\n",
              "      <td>-0.433400</td>\n",
              "      <td>-0.457930</td>\n",
              "      <td>-0.463580</td>\n",
              "      <td>0</td>\n",
              "      <td>1</td>\n",
              "      <td>2</td>\n",
              "    </tr>\n",
              "    <tr>\n",
              "      <th>...</th>\n",
              "      <td>...</td>\n",
              "      <td>...</td>\n",
              "      <td>...</td>\n",
              "      <td>...</td>\n",
              "      <td>...</td>\n",
              "      <td>...</td>\n",
              "      <td>...</td>\n",
              "      <td>...</td>\n",
              "      <td>...</td>\n",
              "    </tr>\n",
              "    <tr>\n",
              "      <th>254</th>\n",
              "      <td>-0.162619</td>\n",
              "      <td>-0.362626</td>\n",
              "      <td>0.794854</td>\n",
              "      <td>0.575523</td>\n",
              "      <td>0.849894</td>\n",
              "      <td>0.675555</td>\n",
              "      <td>0</td>\n",
              "      <td>0</td>\n",
              "      <td>3</td>\n",
              "    </tr>\n",
              "    <tr>\n",
              "      <th>255</th>\n",
              "      <td>-0.190484</td>\n",
              "      <td>-0.374958</td>\n",
              "      <td>0.601073</td>\n",
              "      <td>0.683238</td>\n",
              "      <td>0.798116</td>\n",
              "      <td>0.655560</td>\n",
              "      <td>0</td>\n",
              "      <td>0</td>\n",
              "      <td>3</td>\n",
              "    </tr>\n",
              "    <tr>\n",
              "      <th>256</th>\n",
              "      <td>-0.247693</td>\n",
              "      <td>-0.390650</td>\n",
              "      <td>0.176332</td>\n",
              "      <td>0.381553</td>\n",
              "      <td>0.270643</td>\n",
              "      <td>0.297987</td>\n",
              "      <td>0</td>\n",
              "      <td>1</td>\n",
              "      <td>0</td>\n",
              "    </tr>\n",
              "    <tr>\n",
              "      <th>257</th>\n",
              "      <td>0.163098</td>\n",
              "      <td>-0.195175</td>\n",
              "      <td>3.683517</td>\n",
              "      <td>3.333216</td>\n",
              "      <td>3.914512</td>\n",
              "      <td>3.519261</td>\n",
              "      <td>1</td>\n",
              "      <td>2</td>\n",
              "      <td>3</td>\n",
              "    </tr>\n",
              "    <tr>\n",
              "      <th>258</th>\n",
              "      <td>-0.313779</td>\n",
              "      <td>-0.432606</td>\n",
              "      <td>-0.528725</td>\n",
              "      <td>-0.474960</td>\n",
              "      <td>-0.486104</td>\n",
              "      <td>-0.503146</td>\n",
              "      <td>0</td>\n",
              "      <td>1</td>\n",
              "      <td>2</td>\n",
              "    </tr>\n",
              "  </tbody>\n",
              "</table>\n",
              "<p>259 rows × 9 columns</p>\n",
              "</div>"
            ],
            "text/plain": [
              "     Students (11th Grade)  ...  Cluster K-Medoids\n",
              "0                -0.293119  ...                  2\n",
              "1                -0.271446  ...                  1\n",
              "2                -0.260448  ...                  1\n",
              "3                -0.261811  ...                  1\n",
              "4                -0.293026  ...                  2\n",
              "..                     ...  ...                ...\n",
              "254              -0.162619  ...                  3\n",
              "255              -0.190484  ...                  3\n",
              "256              -0.247693  ...                  0\n",
              "257               0.163098  ...                  3\n",
              "258              -0.313779  ...                  2\n",
              "\n",
              "[259 rows x 9 columns]"
            ]
          },
          "metadata": {},
          "execution_count": 40
        }
      ]
    },
    {
      "cell_type": "code",
      "metadata": {
        "colab": {
          "base_uri": "https://localhost:8080/",
          "height": 349
        },
        "id": "QWK6k-O-dtlU",
        "outputId": "4e549edf-4860-4b13-eff2-2184ada60211"
      },
      "source": [
        "plt.figure(figsize=(8,4))\n",
        "sns.scatterplot(data_cluster['Students (11th Grade)'], data_cluster['Students (12th Grade)'], hue=data_cluster['Cluster K-Medoids'], palette=sns.color_palette('hls',4))\n",
        "plt.title(' K-Medoids 4 cluster')\n",
        "plt.show()\n"
      ],
      "execution_count": 41,
      "outputs": [
        {
          "output_type": "stream",
          "name": "stderr",
          "text": [
            "/usr/local/lib/python3.7/dist-packages/seaborn/_decorators.py:43: FutureWarning: Pass the following variables as keyword args: x, y. From version 0.12, the only valid positional argument will be `data`, and passing other arguments without an explicit keyword will result in an error or misinterpretation.\n",
            "  FutureWarning\n"
          ]
        },
        {
          "output_type": "display_data",
          "data": {
            "image/png": "[encoded data removed]",
            "text/plain": [
              "<Figure size 576x288 with 1 Axes>"
            ]
          },
          "metadata": {
            "needs_background": "light"
          }
        }
      ]
    },
    {
      "cell_type": "markdown",
      "metadata": {
        "id": "ahqB0hZCd4md"
      },
      "source": [
        "**Hierarchy**"
      ]
    },
    {
      "cell_type": "code",
      "metadata": {
        "colab": {
          "base_uri": "https://localhost:8080/",
          "height": 461
        },
        "id": "RABZjyANd9eU",
        "outputId": "8cea4116-b04f-4a16-c8b4-e2bb7ba13df5"
      },
      "source": [
        "from scipy.cluster.hierarchy import dendrogram, linkage\n",
        "\n",
        "plt.figure(figsize=(10,7))\n",
        "plt.title(\"Dendrogram\")\n",
        "dend = dendrogram(linkage(data, method=\"ward\"))\n",
        "plt.axhline(y=35, color='r', linestyle='--')"
      ],
      "execution_count": 42,
      "outputs": [
        {
          "output_type": "execute_result",
          "data": {
            "text/plain": [
              "<matplotlib.lines.Line2D at 0x7f183ab47f50>"
            ]
          },
          "metadata": {},
          "execution_count": 42
        },
        {
          "output_type": "display_data",
          "data": {
            "image/png": "[encoded data removed]",
            "text/plain": [
              "<Figure size 720x504 with 1 Axes>"
            ]
          },
          "metadata": {
            "needs_background": "light"
          }
        }
      ]
    },
    {
      "cell_type": "code",
      "metadata": {
        "colab": {
          "base_uri": "https://localhost:8080/",
          "height": 461
        },
        "id": "7wsobvKeeD-u",
        "outputId": "3483599d-3e11-457f-cc0e-f28db25a71ea"
      },
      "source": [
        "from sklearn.cluster import AgglomerativeClustering\n",
        "\n",
        "model_agglo = AgglomerativeClustering(n_clusters=4, affinity='euclidean', linkage='ward')\n",
        "model_agglo.fit_predict(data)\n",
        "plt.figure(figsize=(10,7))\n",
        "plt.scatter(data_cluster['Students (11th Grade)'], data_cluster['Students (12th Grade)'], c=model_agglo.labels_)\n",
        "plt.title('Hierarchy')"
      ],
      "execution_count": 43,
      "outputs": [
        {
          "output_type": "execute_result",
          "data": {
            "text/plain": [
              "Text(0.5, 1.0, 'Hierarchy')"
            ]
          },
          "metadata": {},
          "execution_count": 43
        },
        {
          "output_type": "display_data",
          "data": {
            "image/png": "[encoded data removed]",
            "text/plain": [
              "<Figure size 720x504 with 1 Axes>"
            ]
          },
          "metadata": {
            "needs_background": "light"
          }
        }
      ]
    },
    {
      "cell_type": "markdown",
      "metadata": {
        "id": "X8R5nRlaeNoa"
      },
      "source": [
        "**DBSCAN**"
      ]
    },
    {
      "cell_type": "code",
      "metadata": {
        "colab": {
          "base_uri": "https://localhost:8080/",
          "height": 282
        },
        "id": "W1VXASmYeRgy",
        "outputId": "8dbe37e6-3279-4105-b89d-c2a5e461834b"
      },
      "source": [
        "from sklearn.neighbors import NearestNeighbors\n",
        "\n",
        "neigh = NearestNeighbors(n_neighbors=13)\n",
        "nbrs = neigh.fit(data)\n",
        "distances, indices = nbrs.kneighbors(data)\n",
        "\n",
        "distances = np.sort(distances, axis=0)\n",
        "distances = distances[:,1]\n",
        "plt.plot(distances)\n",
        "plt.axhline(y=1.5, color='r', linestyle='--')"
      ],
      "execution_count": 44,
      "outputs": [
        {
          "output_type": "execute_result",
          "data": {
            "text/plain": [
              "<matplotlib.lines.Line2D at 0x7f183a7cef90>"
            ]
          },
          "metadata": {},
          "execution_count": 44
        },
        {
          "output_type": "display_data",
          "data": {
            "image/png": "[encoded data removed]",
            "text/plain": [
              "<Figure size 432x288 with 1 Axes>"
            ]
          },
          "metadata": {
            "needs_background": "light"
          }
        }
      ]
    },
    {
      "cell_type": "code",
      "metadata": {
        "colab": {
          "base_uri": "https://localhost:8080/",
          "height": 607
        },
        "id": "6S0fPAcIeWTa",
        "outputId": "50ddd2e0-297e-4cd0-c190-5f3d00537c2a"
      },
      "source": [
        "from sklearn.cluster import DBSCAN\n",
        "\n",
        "model_dbscan = DBSCAN(eps=1.5, min_samples=13)\n",
        "model_dbscan.fit(data)\n",
        "\n",
        "plt.figure(figsize=(10,10))\n",
        "plt.scatter(data_cluster['Students (11th Grade)'], data_cluster['Students (12th Grade)'], c=model_dbscan.labels_)\n",
        "plt.title(' DBSCAN clustering')\n",
        "plt.show()"
      ],
      "execution_count": 45,
      "outputs": [
        {
          "output_type": "display_data",
          "data": {
            "image/png": "[encoded data removed]",
            "text/plain": [
              "<Figure size 720x720 with 1 Axes>"
            ]
          },
          "metadata": {
            "needs_background": "light"
          }
        }
      ]
    }
  ]
}